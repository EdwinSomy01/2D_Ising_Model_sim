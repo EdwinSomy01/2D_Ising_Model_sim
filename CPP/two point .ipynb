{
 "cells": [
  {
   "cell_type": "code",
   "execution_count": 1,
   "id": "e1e44270",
   "metadata": {},
   "outputs": [],
   "source": [
    "import numpy as np\n",
    "\n",
    "import matplotlib.pyplot as plt\n"
   ]
  },
  {
   "cell_type": "code",
   "execution_count": 2,
   "id": "85bd6e0b",
   "metadata": {},
   "outputs": [],
   "source": [
    "\n",
    "\n",
    "def get_susceptibility(filename, N, snapshot_count, T_count):\n",
    "    temps = np.load(filename)\n",
    "    susceptibility = np.zeros(T_count)\n",
    "    temp_count = 0\n",
    "    for _, temp in temps.items():\n",
    "        mag_config = np.zeros(snapshot_count)\n",
    "        snap_count = 0\n",
    "        for snap in temp:\n",
    "            mag_config[snap_count] = np.mean(snap)\n",
    "            snap_count += 1\n",
    "        susceptibility[temp_count] = np.var(mag_config) / T_list[temp_count]\n",
    "        temp_count += 1\n",
    "    return susceptibility\n"
   ]
  },
  {
   "cell_type": "code",
   "execution_count": 7,
   "id": "d473e292",
   "metadata": {},
   "outputs": [],
   "source": [
    "snapshot = np.load(\"data_40.npz\")\n",
    "f = snapshot.files"
   ]
  },
  {
   "cell_type": "code",
   "execution_count": null,
   "id": "378f4a4a",
   "metadata": {},
   "outputs": [],
   "source": [
    "\n",
    "   \n"
   ]
  },
  {
   "cell_type": "code",
   "execution_count": 34,
   "id": "845e6755",
   "metadata": {},
   "outputs": [
    {
     "name": "stdout",
     "output_type": "stream",
     "text": [
      "[[ 1  1  1 ... -1  1  1]\n",
      " [-1  1  1 ... -1  1  1]\n",
      " [ 1 -1  1 ... -1 -1  1]\n",
      " ...\n",
      " [-1  1  1 ... -1  1  1]\n",
      " [ 1  1  1 ...  1  1  1]\n",
      " [ 1 -1 -1 ...  1  1  1]]\n"
     ]
    },
    {
     "data": {
      "text/plain": [
       "1600"
      ]
     },
     "execution_count": 34,
     "metadata": {},
     "output_type": "execute_result"
    }
   ],
   "source": [
    "    sp =snapshot['arr_39']\n",
    "    print(sp[39])\n",
    "    ssp = np.array(sp)\n",
    "    ssp[39].size"
   ]
  },
  {
   "cell_type": "code",
   "execution_count": 23,
   "metadata": {},
   "outputs": [
    {
     "name": "stdout",
     "output_type": "stream",
     "text": [
      "True\n"
     ]
    }
   ],
   "source": [
    "k =0\n",
    "print(k in range(2))"
   ]
  },
  {
   "cell_type": "code",
   "execution_count": 19,
   "id": "5d423a75",
   "metadata": {},
   "outputs": [
    {
     "ename": "IndexError",
     "evalue": "list assignment index out of range",
     "output_type": "error",
     "traceback": [
      "\u001b[1;31m---------------------------------------------------------------------------\u001b[0m",
      "\u001b[1;31mIndexError\u001b[0m                                Traceback (most recent call last)",
      "\u001b[1;32mc:\\Users\\EDWIN\\python\\ising model codes 2d\\Untitled.ipynb Cell 6\u001b[0m line \u001b[0;36m3\n\u001b[0;32m     <a href='vscode-notebook-cell:/c%3A/Users/EDWIN/python/ising%20model%20codes%202d/Untitled.ipynb#W5sZmlsZQ%3D%3D?line=29'>30</a>\u001b[0m     \u001b[39mfor\u001b[39;00m i \u001b[39min\u001b[39;00m \u001b[39mrange\u001b[39m(\u001b[39m40\u001b[39m):\n\u001b[0;32m     <a href='vscode-notebook-cell:/c%3A/Users/EDWIN/python/ising%20model%20codes%202d/Untitled.ipynb#W5sZmlsZQ%3D%3D?line=30'>31</a>\u001b[0m         \u001b[39mfor\u001b[39;00m j \u001b[39min\u001b[39;00m \u001b[39mrange\u001b[39m(\u001b[39m40\u001b[39m):\n\u001b[1;32m---> <a href='vscode-notebook-cell:/c%3A/Users/EDWIN/python/ising%20model%20codes%202d/Untitled.ipynb#W5sZmlsZQ%3D%3D?line=31'>32</a>\u001b[0m             x[i][k]\u001b[39m=\u001b[39m(i\u001b[39m-\u001b[39mms(tx,i,j))\u001b[39m*\u001b[39m(k\u001b[39m-\u001b[39mms(tx,k,j))\n\u001b[0;32m     <a href='vscode-notebook-cell:/c%3A/Users/EDWIN/python/ising%20model%20codes%202d/Untitled.ipynb#W5sZmlsZQ%3D%3D?line=34'>35</a>\u001b[0m \u001b[39mprint\u001b[39m(red(x))\n",
      "\u001b[1;31mIndexError\u001b[0m: list assignment index out of range"
     ]
    }
   ],
   "source": [
    "    filename=\"data_40.npz\"\n",
    "    N = 40\n",
    "    snapshot_count = 1000\n",
    "    T_count = 40\n",
    "    def ms(sn,i,j):\n",
    "      s=0\n",
    "      for t in range(1000): \n",
    "        s += sn[t][i][j]\n",
    "      return s/1000  \n",
    "    def red(tt):\n",
    "     r_config = np.zeros(40)\n",
    "     for i in range (40):\n",
    "         r_config[k]+=tt[i][k]\n",
    "     r_config[k]= r_config[k] /40\n",
    "     return r_config[k]    \n",
    "\n",
    "\n",
    "\n",
    "    temps = np.load(filename)\n",
    "    \n",
    "    c=0\n",
    "   \n",
    "    for _,temp in temps.items():\n",
    "        tx= np.array(temp)\n",
    "        \n",
    "        snap_count = 0\n",
    "        \n",
    "        x=[[]*40]*40\n",
    "        for k in range(40):\n",
    "            for i in range(40):\n",
    "                for j in range(40):\n",
    "                    x[i][k]=(i-ms(tx,i,j))*(k-ms(tx,k,j))\n",
    "            \n",
    "        p    \n",
    "        print(red(x))\n",
    "            \n",
    "       "
   ]
  },
  {
   "cell_type": "code",
   "execution_count": null,
   "id": "eb935171",
   "metadata": {},
   "outputs": [],
   "source": []
  }
 ],
 "metadata": {
  "kernelspec": {
   "display_name": "Python 3 (ipykernel)",
   "language": "python",
   "name": "python3"
  },
  "language_info": {
   "codemirror_mode": {
    "name": "ipython",
    "version": 3
   },
   "file_extension": ".py",
   "mimetype": "text/x-python",
   "name": "python",
   "nbconvert_exporter": "python",
   "pygments_lexer": "ipython3",
   "version": "3.10.9"
  }
 },
 "nbformat": 4,
 "nbformat_minor": 5
}
