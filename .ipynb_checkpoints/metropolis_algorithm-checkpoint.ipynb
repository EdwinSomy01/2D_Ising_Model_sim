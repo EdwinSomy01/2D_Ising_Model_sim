{
 "cells": [
  {
   "cell_type": "code",
   "execution_count": 1,
   "id": "715ef89c-f3a9-4e7f-ada7-4898bacc0f30",
   "metadata": {
    "id": "715ef89c-f3a9-4e7f-ada7-4898bacc0f30"
   },
   "outputs": [],
   "source": [
    "from tqdm.notebook import trange\n",
    "import pathlib\n",
    "import numpy as np"
   ]
  },
  {
   "cell_type": "code",
   "execution_count": 2,
   "id": "d91m1zdLJoaz",
   "metadata": {
    "id": "d91m1zdLJoaz"
   },
   "outputs": [],
   "source": [
    "rng = np.random.default_rng() #Random number generator that outputs uniformly distributed floats in the range [0,1)"
   ]
  },
  {
   "cell_type": "markdown",
   "id": "6994800e-0a6b-4b06-8687-76ccd708fcb1",
   "metadata": {
    "id": "6994800e-0a6b-4b06-8687-76ccd708fcb1"
   },
   "source": [
    "<h1>Assignment 2:</h1>"
   ]
  },
  {
   "cell_type": "markdown",
   "id": "db9bef6a-4f17-4c6b-bce4-701b4450526b",
   "metadata": {
    "id": "db9bef6a-4f17-4c6b-bce4-701b4450526b"
   },
   "source": [
    "<h2>Calculating the parameters:</h2>\n",
    "\n",
    "The Hamiltonian is given by $$H = -J \\sum_{\\left\\langle ij \\right\\rangle}{s_i s_j}$$ where $s_i \\in \\{+1,-1\\}$.\n",
    "\n",
    "We need to find a suitable value of $J$ such that the critical temperature $T_c$ as given by the mean field theory approximation is $2$. The relation between $J$ and $T_c$ is given as $JC\\beta_c = \\frac{JC}{kT_c}=1$ where $C=4$ for the 2D Ising model. We will define, for now, that $k=2$ and correct our obtained values accordingly later.\n",
    "\n",
    "This conveniently gives us $J=1$. Also, $\\beta_c = \\frac{1}{kT_c} = \\frac{1}{4}$."
   ]
  },
  {
   "cell_type": "markdown",
   "id": "84879a62-afd9-424a-b57b-1788fa164a46",
   "metadata": {
    "id": "84879a62-afd9-424a-b57b-1788fa164a46"
   },
   "source": [
    "We will consider periodic boundary conditions."
   ]
  },
  {
   "cell_type": "markdown",
   "id": "681152fd-1915-48c0-a5f1-13bf7599af05",
   "metadata": {
    "id": "681152fd-1915-48c0-a5f1-13bf7599af05"
   },
   "source": [
    "<h2>Monte-Carlo step:</h2>\n",
    "\n",
    "The spin-up state is taken as $+1$ and the spin-down state is taken as $-1$.\n",
    "\n",
    "In one Monte-Carlo step, we flip the state of one spin and calculate the resulting energy difference $\\Delta E = E_f - E_i$. When a spin is flipped, only $4$ terms are affected in the Hamiltonian, and they are the interactions between the nearest neighbour spins of the flipped spin and the flipped spin itself. So, instead of recalculating the entire Hamiltonian every time, we can simply calculate the energy difference from these $4$ terms.\n",
    "\n",
    "Let us say spin $s_{(i,j)}$ was flipped (which is the spin at row $i$ and column $j$). The energy difference is then $$\\Delta E = 2Js_{(i,j)} \\cdot \\left( s_{(i+1,j)} + s_{(i,j+1)} + s_{(i-1,j)} + s_{(i,j-1)} \\right)$$ since we just flipped the sign of these $4$ terms. Note that the indices are considered modulo $N$ because of periodic boundary conditions.\n",
    "\n",
    "Then we can test if the new state satisfies our conditions and if it does, we'll flip the spin."
   ]
  },
  {
   "cell_type": "markdown",
   "id": "ae2a295e-98b3-43d6-8ae2-275aa9c19d61",
   "metadata": {},
   "source": [
    "<h2>Speeding up the simulation:</h2>\n",
    "\n",
    "If we consider the lattices for fixed $N$, in each timestep we are performing basically the same operation on all of them, and each step follows the same sequence of spins. So instead of evolving them one by one, we can process all of them at the same time. NumPy does this effectively through \"vectorization\". In the following code, I have used this idea. Instead of passing one lattice-temperature pair, I have passed lists of lattice-temperature pairs. Now, in each step, I can calculate $\\Delta E$, whether the state was accepted, and flipping the spin if the state was accepted, for all of the lattices in one go. The resulting speedup is huge, I estimate about $10$ times faster.\n",
    "\n",
    "We have to keep $N$ fixed, otherwise the array indexing would get messed up when calculating $\\Delta E$.\n",
    "\n",
    "We can make further optimisations. There is a $2$ in the energy difference formula and we also defined $k=2$. These can be cancelled to remove two multiplications. Also, division is much slower than multiplication, so we can calculate $\\frac{1}{T}$ beforehand and multiply by it instead of dividing in every step."
   ]
  },
  {
   "cell_type": "code",
   "execution_count": 3,
   "id": "aa885341-42d2-4178-a15d-e46e75403127",
   "metadata": {
    "id": "aa885341-42d2-4178-a15d-e46e75403127"
   },
   "outputs": [],
   "source": [
    "def mc_step(lattices,inv_Ts,N,i,j):\n",
    "    #Calculate del_E\n",
    "    del_Es = lattices[:,i,j]*(lattices[:,i-1,j]+lattices[:,i+1-N,j]+lattices[:,i,j-1]+lattices[:,i,j+1-N])\n",
    "    #Check if state is accepted\n",
    "    accepts = rng.random(inv_Ts.shape[0]) < np.exp(-del_Es*inv_Ts)\n",
    "    #Flip if accepted\n",
    "    #Accept value is True or False, so convert to 0 and 1, and map 0 -> 1 (no flip) and 1 -> -1 (flip)\n",
    "    lattices[:,i,j] *= 1-2*accepts.astype(np.int8)"
   ]
  },
  {
   "cell_type": "code",
   "execution_count": 4,
   "id": "832a9e79-5810-4f2c-a855-d4a4bb05ce68",
   "metadata": {
    "id": "832a9e79-5810-4f2c-a855-d4a4bb05ce68"
   },
   "outputs": [],
   "source": [
    "def mc_timestep(lattices,inv_Ts,N):\n",
    "    for i in range(N):\n",
    "        for j in range(N):\n",
    "            mc_step(lattices,inv_Ts,N,i,j)"
   ]
  },
  {
   "cell_type": "markdown",
   "id": "77c8d6e2-58ae-459f-8938-5a1bf76b6171",
   "metadata": {
    "id": "77c8d6e2-58ae-459f-8938-5a1bf76b6171"
   },
   "source": [
    "<h2>Simulating and gathering snapshots:</h2>\n",
    "\n",
    "The following cells define the required elements of the simulation and then we run it. We take an $N \\times N$ sized lattice at temperature $T$. For the initial state, we'll consider all spins to point up. First it is allowed to equilibriate for ```t_equilibrium``` timesteps, then ```snapshot_count``` snapshots are gathered every ```snapshot_interval``` timesteps.\n",
    "\n",
    "Then the snapshots are stored in CSV format for further analysis. This way, we have to run the simulation just once, and later we can use the stored data anytime."
   ]
  },
  {
   "cell_type": "code",
   "execution_count": 5,
   "id": "b16b90a6-84fe-45fc-9ac9-4068a28d9ad2",
   "metadata": {
    "id": "b16b90a6-84fe-45fc-9ac9-4068a28d9ad2"
   },
   "outputs": [],
   "source": [
    "def simulate(N,Ts):\n",
    "    #Create lattices\n",
    "    lattices = np.ones(shape=(Ts.shape[0],N,N),dtype=np.int8)\n",
    "    inv_Ts = 1/Ts\n",
    "\n",
    "    #Allow them to equilibriate\n",
    "    for t in trange(t_equilibrium,desc='Equilibriation'):\n",
    "        mc_timestep(lattices,inv_Ts,N)\n",
    "\n",
    "    #Collect snapshots\n",
    "    snapshots = np.empty((snapshot_count,*lattices.shape),dtype=np.int8) #This stores the snapshots\n",
    "    for i in trange(snapshot_count,desc='Collecting snapshots'):\n",
    "        for t in range(snapshot_interval):\n",
    "            mc_timestep(lattices,inv_Ts,N)\n",
    "        snapshots[i] = lattices\n",
    "\n",
    "    #Create data directory\n",
    "    pathlib.Path(f'./data/{N}/').mkdir(parents=True,exist_ok=True)\n",
    "\n",
    "    #Store snapshots as CSV\n",
    "    for i in range(Ts.shape[0]):\n",
    "      #Get the snapshots for fixed T\n",
    "      snapshots_T = snapshots[:,i,:,:]\n",
    "      #Flatten the 2D lattice into a 1D array for storing in CSV format\n",
    "      snapshots_T = snapshots_T.reshape(snapshots_T.shape[0],-1)\n",
    "      #Save as CSV\n",
    "      np.savetxt(f'./data/{N}/{Ts[i]:.1f}.csv',snapshots_T,fmt='%d',delimiter=',')"
   ]
  },
  {
   "cell_type": "code",
   "execution_count": 4,
   "id": "1168c80c-f51b-4538-855f-088678da768c",
   "metadata": {},
   "outputs": [],
   "source": [
    "t_equilibrium = 10000\n",
    "snapshot_interval = 100\n",
    "snapshot_count = 1000\n",
    "N = 16\n",
    "T_list = np.linspace(0.1,4,40)"
   ]
  },
  {
   "cell_type": "code",
   "execution_count": null,
   "id": "0477c4dc-dd59-4d51-8711-cf8af12a843e",
   "metadata": {
    "colab": {
     "base_uri": "https://localhost:8080/",
     "height": 335,
     "referenced_widgets": [
      "71ca091c163a4564a2008552bd043dda",
      "ed4a3ceca0fa46b594ff38fb0fd01001",
      "b69c131855da4c38b0a9580c51db7198",
      "c8c31439a16e4afdb681901cb5919739",
      "368acebd18934a5ca15d92e2eb1dfbbd",
      "d7d44a7db40d47e48d0a0d86f16a3f04",
      "a70d789f5c4941859f2d10b4d826ebe1",
      "afa8ed072d6e412f9de01ef059ed5abd",
      "7d18facae7d245fbbf61fc3aec9d2cd4",
      "4c1f0743b5d4483da4f8b43ecd4727f1",
      "ee426cdd08454ef689b505ba0fca95c8",
      "997f127cca8f4273b25a6ad09a131049",
      "cf4ea50de19044d080bb3e1d002b148b",
      "4b178e34650b4bbeafb1d6d81f1f0420",
      "368767fc87cb433f8e284b9546fb6e0c",
      "028b95aa566e4b70ac77701e2b5ed817",
      "712f10fd030b4f13b9853bb5388fe801",
      "c456768cba3549c6b3f7696073d22884",
      "a93ed6f892a84a7a8a79be0a3f16cb95",
      "0af83c7206fb4cc8b96573a7aa66b8b6",
      "bb02a91ed30946a19491c673c6816757",
      "53c6ce65f74d40fbb3b5e2799d30ca70"
     ]
    },
    "id": "0477c4dc-dd59-4d51-8711-cf8af12a843e",
    "outputId": "74ba2e49-19c9-4b0b-a9d2-0b7d9ada66c5"
   },
   "outputs": [
    {
     "name": "stdout",
     "output_type": "stream",
     "text": [
      "Processing N = 16...\n"
     ]
    },
    {
     "data": {
      "application/json": {
       "ascii": false,
       "bar_format": null,
       "colour": null,
       "elapsed": 0.01015925407409668,
       "initial": 0,
       "n": 0,
       "ncols": null,
       "nrows": 49,
       "postfix": null,
       "prefix": "Equilibriation",
       "rate": null,
       "total": 10000,
       "unit": "it",
       "unit_divisor": 1000,
       "unit_scale": false
      },
      "application/vnd.jupyter.widget-view+json": {
       "model_id": "32f2ab38fcaf4c91aafdab41726d310b",
       "version_major": 2,
       "version_minor": 0
      },
      "text/plain": [
       "Equilibriation:   0%|          | 0/10000 [00:00<?, ?it/s]"
      ]
     },
     "metadata": {},
     "output_type": "display_data"
    },
    {
     "data": {
      "application/json": {
       "ascii": false,
       "bar_format": null,
       "colour": null,
       "elapsed": 0.006922721862792969,
       "initial": 0,
       "n": 0,
       "ncols": null,
       "nrows": 49,
       "postfix": null,
       "prefix": "Collecting snapshots",
       "rate": null,
       "total": 1000,
       "unit": "it",
       "unit_divisor": 1000,
       "unit_scale": false
      },
      "application/vnd.jupyter.widget-view+json": {
       "model_id": "88b3c33578d14acab425c692c249718b",
       "version_major": 2,
       "version_minor": 0
      },
      "text/plain": [
       "Collecting snapshots:   0%|          | 0/1000 [00:00<?, ?it/s]"
      ]
     },
     "metadata": {},
     "output_type": "display_data"
    }
   ],
   "source": [
    "print(f'Processing N = {N}...')\n",
    "simulate(N,T_list)"
   ]
  },
  {
   "cell_type": "markdown",
   "id": "250e0c65-5a7e-4abd-bf32-d8d48b7763da",
   "metadata": {},
   "source": [
    "<h2>Analysis:</h2>"
   ]
  },
  {
   "cell_type": "code",
   "execution_count": 2,
   "id": "bb5e411b-04aa-4636-9c47-9061121adb5f",
   "metadata": {},
   "outputs": [],
   "source": [
    "import os\n",
    "import csv\n",
    "import matplotlib.pyplot as plt\n",
    "import plotly.express as px"
   ]
  },
  {
   "cell_type": "code",
   "execution_count": 45,
   "id": "a3ae463b-4d82-42c6-9efb-b795d3334ea1",
   "metadata": {},
   "outputs": [],
   "source": [
    "def get_magnetisation(N):\n",
    "    directory = f'./data/{N}/'\n",
    "    \n",
    "    magnetisation = np.empty_like(T_list)\n",
    "    file_count = 0\n",
    "    \n",
    "    for file in os.listdir(directory):\n",
    "        filename = os.fsdecode(file)\n",
    "        filepath = os.path.join(directory,filename)\n",
    "        if filename.endswith('.csv'):\n",
    "            #Get the T value\n",
    "            temp = float(filename[:-4])\n",
    "        \n",
    "            with open(filepath) as cfile:\n",
    "                csv_reader = csv.reader(cfile, delimiter=',')\n",
    "                line_count = 0\n",
    "        \n",
    "                mag_config = np.zeros(snapshot_count)\n",
    "                #For each snapshot\n",
    "                for row in csv_reader:\n",
    "                    #You get the snapshot as a NxN sized 1D array\n",
    "                    #You can restore it as an NxN 2D matrix using np.reshape\n",
    "                    nprow = np.array(row,dtype=np.float32)\n",
    "                    mag_config[line_count] = np.mean(nprow)\n",
    "                    line_count += 1\n",
    "                magnetisation[file_count] = np.mean(np.abs(mag_config))\n",
    "                file_count += 1\n",
    "    return magnetisation"
   ]
  },
  {
   "cell_type": "code",
   "execution_count": 46,
   "id": "212b977d-e15e-4d72-a5a1-b917478cdf0f",
   "metadata": {},
   "outputs": [],
   "source": [
    "magnetisation_16 = get_magnetisation(16)\n",
    "magnetisation_25 = get_magnetisation(25)"
   ]
  },
  {
   "cell_type": "code",
   "execution_count": 49,
   "id": "fe457f98-e295-491c-b589-da1571f7fcc2",
   "metadata": {},
   "outputs": [
    {
     "data": {
      "image/png": "[encoded data removed]",
      "text/plain": [
       "<Figure size 640x480 with 1 Axes>"
      ]
     },
     "metadata": {},
     "output_type": "display_data"
    }
   ],
   "source": [
    "plt.plot(T_list,magnetisation_16,c='red',label='16')\n",
    "plt.plot(T_list,magnetisation_25,c='blue',label='25')\n",
    "plt.legend()\n",
    "plt.show()"
   ]
  }
 ],
 "metadata": {
  "colab": {
   "provenance": []
  },
  "kernelspec": {
   "display_name": "Python 3 (ipykernel)",
   "language": "python",
   "name": "python3"
  },
  "language_info": {
   "codemirror_mode": {
    "name": "ipython",
    "version": 3
   },
   "file_extension": ".py",
   "mimetype": "text/x-python",
   "name": "python",
   "nbconvert_exporter": "python",
   "pygments_lexer": "ipython3",
   "version": "3.9.1"
  },
  "widgets": {
   "application/vnd.jupyter.widget-state+json": {
    "028b95aa566e4b70ac77701e2b5ed817": {
     "model_module": "@jupyter-widgets/base",
     "model_module_version": "1.2.0",
     "model_name": "LayoutModel",
     "state": {
      "_model_module": "@jupyter-widgets/base",
      "_model_module_version": "1.2.0",
      "_model_name": "LayoutModel",
      "_view_count": null,
      "_view_module": "@jupyter-widgets/base",
      "_view_module_version": "1.2.0",
      "_view_name": "LayoutView",
      "align_content": null,
      "align_items": null,
      "align_self": null,
      "border": null,
      "bottom": null,
      "display": null,
      "flex": null,
      "flex_flow": null,
      "grid_area": null,
      "grid_auto_columns": null,
      "grid_auto_flow": null,
      "grid_auto_rows": null,
      "grid_column": null,
      "grid_gap": null,
      "grid_row": null,
      "grid_template_areas": null,
      "grid_template_columns": null,
      "grid_template_rows": null,
      "height": null,
      "justify_content": null,
      "justify_items": null,
      "left": null,
      "margin": null,
      "max_height": null,
      "max_width": null,
      "min_height": null,
      "min_width": null,
      "object_fit": null,
      "object_position": null,
      "order": null,
      "overflow": null,
      "overflow_x": null,
      "overflow_y": null,
      "padding": null,
      "right": null,
      "top": null,
      "visibility": null,
      "width": null
     }
    },
    "0af83c7206fb4cc8b96573a7aa66b8b6": {
     "model_module": "@jupyter-widgets/controls",
     "model_module_version": "1.5.0",
     "model_name": "ProgressStyleModel",
     "state": {
      "_model_module": "@jupyter-widgets/controls",
      "_model_module_version": "1.5.0",
      "_model_name": "ProgressStyleModel",
      "_view_count": null,
      "_view_module": "@jupyter-widgets/base",
      "_view_module_version": "1.2.0",
      "_view_name": "StyleView",
      "bar_color": null,
      "description_width": ""
     }
    },
    "368767fc87cb433f8e284b9546fb6e0c": {
     "model_module": "@jupyter-widgets/controls",
     "model_module_version": "1.5.0",
     "model_name": "HTMLModel",
     "state": {
      "_dom_classes": [],
      "_model_module": "@jupyter-widgets/controls",
      "_model_module_version": "1.5.0",
      "_model_name": "HTMLModel",
      "_view_count": null,
      "_view_module": "@jupyter-widgets/controls",
      "_view_module_version": "1.5.0",
      "_view_name": "HTMLView",
      "description": "",
      "description_tooltip": null,
      "layout": "IPY_MODEL_bb02a91ed30946a19491c673c6816757",
      "placeholder": "​",
      "style": "IPY_MODEL_53c6ce65f74d40fbb3b5e2799d30ca70",
      "value": " 26/100 [00:14&lt;00:36,  2.01it/s]"
     }
    },
    "368acebd18934a5ca15d92e2eb1dfbbd": {
     "model_module": "@jupyter-widgets/base",
     "model_module_version": "1.2.0",
     "model_name": "LayoutModel",
     "state": {
      "_model_module": "@jupyter-widgets/base",
      "_model_module_version": "1.2.0",
      "_model_name": "LayoutModel",
      "_view_count": null,
      "_view_module": "@jupyter-widgets/base",
      "_view_module_version": "1.2.0",
      "_view_name": "LayoutView",
      "align_content": null,
      "align_items": null,
      "align_self": null,
      "border": null,
      "bottom": null,
      "display": null,
      "flex": null,
      "flex_flow": null,
      "grid_area": null,
      "grid_auto_columns": null,
      "grid_auto_flow": null,
      "grid_auto_rows": null,
      "grid_column": null,
      "grid_gap": null,
      "grid_row": null,
      "grid_template_areas": null,
      "grid_template_columns": null,
      "grid_template_rows": null,
      "height": null,
      "justify_content": null,
      "justify_items": null,
      "left": null,
      "margin": null,
      "max_height": null,
      "max_width": null,
      "min_height": null,
      "min_width": null,
      "object_fit": null,
      "object_position": null,
      "order": null,
      "overflow": null,
      "overflow_x": null,
      "overflow_y": null,
      "padding": null,
      "right": null,
      "top": null,
      "visibility": "hidden",
      "width": null
     }
    },
    "4b178e34650b4bbeafb1d6d81f1f0420": {
     "model_module": "@jupyter-widgets/controls",
     "model_module_version": "1.5.0",
     "model_name": "FloatProgressModel",
     "state": {
      "_dom_classes": [],
      "_model_module": "@jupyter-widgets/controls",
      "_model_module_version": "1.5.0",
      "_model_name": "FloatProgressModel",
      "_view_count": null,
      "_view_module": "@jupyter-widgets/controls",
      "_view_module_version": "1.5.0",
      "_view_name": "ProgressView",
      "bar_style": "danger",
      "description": "",
      "description_tooltip": null,
      "layout": "IPY_MODEL_a93ed6f892a84a7a8a79be0a3f16cb95",
      "max": 100,
      "min": 0,
      "orientation": "horizontal",
      "style": "IPY_MODEL_0af83c7206fb4cc8b96573a7aa66b8b6",
      "value": 26
     }
    },
    "4c1f0743b5d4483da4f8b43ecd4727f1": {
     "model_module": "@jupyter-widgets/base",
     "model_module_version": "1.2.0",
     "model_name": "LayoutModel",
     "state": {
      "_model_module": "@jupyter-widgets/base",
      "_model_module_version": "1.2.0",
      "_model_name": "LayoutModel",
      "_view_count": null,
      "_view_module": "@jupyter-widgets/base",
      "_view_module_version": "1.2.0",
      "_view_name": "LayoutView",
      "align_content": null,
      "align_items": null,
      "align_self": null,
      "border": null,
      "bottom": null,
      "display": null,
      "flex": null,
      "flex_flow": null,
      "grid_area": null,
      "grid_auto_columns": null,
      "grid_auto_flow": null,
      "grid_auto_rows": null,
      "grid_column": null,
      "grid_gap": null,
      "grid_row": null,
      "grid_template_areas": null,
      "grid_template_columns": null,
      "grid_template_rows": null,
      "height": null,
      "justify_content": null,
      "justify_items": null,
      "left": null,
      "margin": null,
      "max_height": null,
      "max_width": null,
      "min_height": null,
      "min_width": null,
      "object_fit": null,
      "object_position": null,
      "order": null,
      "overflow": null,
      "overflow_x": null,
      "overflow_y": null,
      "padding": null,
      "right": null,
      "top": null,
      "visibility": null,
      "width": null
     }
    },
    "53c6ce65f74d40fbb3b5e2799d30ca70": {
     "model_module": "@jupyter-widgets/controls",
     "model_module_version": "1.5.0",
     "model_name": "DescriptionStyleModel",
     "state": {
      "_model_module": "@jupyter-widgets/controls",
      "_model_module_version": "1.5.0",
      "_model_name": "DescriptionStyleModel",
      "_view_count": null,
      "_view_module": "@jupyter-widgets/base",
      "_view_module_version": "1.2.0",
      "_view_name": "StyleView",
      "description_width": ""
     }
    },
    "712f10fd030b4f13b9853bb5388fe801": {
     "model_module": "@jupyter-widgets/base",
     "model_module_version": "1.2.0",
     "model_name": "LayoutModel",
     "state": {
      "_model_module": "@jupyter-widgets/base",
      "_model_module_version": "1.2.0",
      "_model_name": "LayoutModel",
      "_view_count": null,
      "_view_module": "@jupyter-widgets/base",
      "_view_module_version": "1.2.0",
      "_view_name": "LayoutView",
      "align_content": null,
      "align_items": null,
      "align_self": null,
      "border": null,
      "bottom": null,
      "display": null,
      "flex": null,
      "flex_flow": null,
      "grid_area": null,
      "grid_auto_columns": null,
      "grid_auto_flow": null,
      "grid_auto_rows": null,
      "grid_column": null,
      "grid_gap": null,
      "grid_row": null,
      "grid_template_areas": null,
      "grid_template_columns": null,
      "grid_template_rows": null,
      "height": null,
      "justify_content": null,
      "justify_items": null,
      "left": null,
      "margin": null,
      "max_height": null,
      "max_width": null,
      "min_height": null,
      "min_width": null,
      "object_fit": null,
      "object_position": null,
      "order": null,
      "overflow": null,
      "overflow_x": null,
      "overflow_y": null,
      "padding": null,
      "right": null,
      "top": null,
      "visibility": null,
      "width": null
     }
    },
    "71ca091c163a4564a2008552bd043dda": {
     "model_module": "@jupyter-widgets/controls",
     "model_module_version": "1.5.0",
     "model_name": "HBoxModel",
     "state": {
      "_dom_classes": [],
      "_model_module": "@jupyter-widgets/controls",
      "_model_module_version": "1.5.0",
      "_model_name": "HBoxModel",
      "_view_count": null,
      "_view_module": "@jupyter-widgets/controls",
      "_view_module_version": "1.5.0",
      "_view_name": "HBoxView",
      "box_style": "",
      "children": [
       "IPY_MODEL_ed4a3ceca0fa46b594ff38fb0fd01001",
       "IPY_MODEL_b69c131855da4c38b0a9580c51db7198",
       "IPY_MODEL_c8c31439a16e4afdb681901cb5919739"
      ],
      "layout": "IPY_MODEL_368acebd18934a5ca15d92e2eb1dfbbd"
     }
    },
    "7d18facae7d245fbbf61fc3aec9d2cd4": {
     "model_module": "@jupyter-widgets/controls",
     "model_module_version": "1.5.0",
     "model_name": "ProgressStyleModel",
     "state": {
      "_model_module": "@jupyter-widgets/controls",
      "_model_module_version": "1.5.0",
      "_model_name": "ProgressStyleModel",
      "_view_count": null,
      "_view_module": "@jupyter-widgets/base",
      "_view_module_version": "1.2.0",
      "_view_name": "StyleView",
      "bar_color": null,
      "description_width": ""
     }
    },
    "997f127cca8f4273b25a6ad09a131049": {
     "model_module": "@jupyter-widgets/controls",
     "model_module_version": "1.5.0",
     "model_name": "HBoxModel",
     "state": {
      "_dom_classes": [],
      "_model_module": "@jupyter-widgets/controls",
      "_model_module_version": "1.5.0",
      "_model_name": "HBoxModel",
      "_view_count": null,
      "_view_module": "@jupyter-widgets/controls",
      "_view_module_version": "1.5.0",
      "_view_name": "HBoxView",
      "box_style": "",
      "children": [
       "IPY_MODEL_cf4ea50de19044d080bb3e1d002b148b",
       "IPY_MODEL_4b178e34650b4bbeafb1d6d81f1f0420",
       "IPY_MODEL_368767fc87cb433f8e284b9546fb6e0c"
      ],
      "layout": "IPY_MODEL_028b95aa566e4b70ac77701e2b5ed817"
     }
    },
    "a70d789f5c4941859f2d10b4d826ebe1": {
     "model_module": "@jupyter-widgets/controls",
     "model_module_version": "1.5.0",
     "model_name": "DescriptionStyleModel",
     "state": {
      "_model_module": "@jupyter-widgets/controls",
      "_model_module_version": "1.5.0",
      "_model_name": "DescriptionStyleModel",
      "_view_count": null,
      "_view_module": "@jupyter-widgets/base",
      "_view_module_version": "1.2.0",
      "_view_name": "StyleView",
      "description_width": ""
     }
    },
    "a93ed6f892a84a7a8a79be0a3f16cb95": {
     "model_module": "@jupyter-widgets/base",
     "model_module_version": "1.2.0",
     "model_name": "LayoutModel",
     "state": {
      "_model_module": "@jupyter-widgets/base",
      "_model_module_version": "1.2.0",
      "_model_name": "LayoutModel",
      "_view_count": null,
      "_view_module": "@jupyter-widgets/base",
      "_view_module_version": "1.2.0",
      "_view_name": "LayoutView",
      "align_content": null,
      "align_items": null,
      "align_self": null,
      "border": null,
      "bottom": null,
      "display": null,
      "flex": null,
      "flex_flow": null,
      "grid_area": null,
      "grid_auto_columns": null,
      "grid_auto_flow": null,
      "grid_auto_rows": null,
      "grid_column": null,
      "grid_gap": null,
      "grid_row": null,
      "grid_template_areas": null,
      "grid_template_columns": null,
      "grid_template_rows": null,
      "height": null,
      "justify_content": null,
      "justify_items": null,
      "left": null,
      "margin": null,
      "max_height": null,
      "max_width": null,
      "min_height": null,
      "min_width": null,
      "object_fit": null,
      "object_position": null,
      "order": null,
      "overflow": null,
      "overflow_x": null,
      "overflow_y": null,
      "padding": null,
      "right": null,
      "top": null,
      "visibility": null,
      "width": null
     }
    },
    "afa8ed072d6e412f9de01ef059ed5abd": {
     "model_module": "@jupyter-widgets/base",
     "model_module_version": "1.2.0",
     "model_name": "LayoutModel",
     "state": {
      "_model_module": "@jupyter-widgets/base",
      "_model_module_version": "1.2.0",
      "_model_name": "LayoutModel",
      "_view_count": null,
      "_view_module": "@jupyter-widgets/base",
      "_view_module_version": "1.2.0",
      "_view_name": "LayoutView",
      "align_content": null,
      "align_items": null,
      "align_self": null,
      "border": null,
      "bottom": null,
      "display": null,
      "flex": null,
      "flex_flow": null,
      "grid_area": null,
      "grid_auto_columns": null,
      "grid_auto_flow": null,
      "grid_auto_rows": null,
      "grid_column": null,
      "grid_gap": null,
      "grid_row": null,
      "grid_template_areas": null,
      "grid_template_columns": null,
      "grid_template_rows": null,
      "height": null,
      "justify_content": null,
      "justify_items": null,
      "left": null,
      "margin": null,
      "max_height": null,
      "max_width": null,
      "min_height": null,
      "min_width": null,
      "object_fit": null,
      "object_position": null,
      "order": null,
      "overflow": null,
      "overflow_x": null,
      "overflow_y": null,
      "padding": null,
      "right": null,
      "top": null,
      "visibility": null,
      "width": null
     }
    },
    "b69c131855da4c38b0a9580c51db7198": {
     "model_module": "@jupyter-widgets/controls",
     "model_module_version": "1.5.0",
     "model_name": "FloatProgressModel",
     "state": {
      "_dom_classes": [],
      "_model_module": "@jupyter-widgets/controls",
      "_model_module_version": "1.5.0",
      "_model_name": "FloatProgressModel",
      "_view_count": null,
      "_view_module": "@jupyter-widgets/controls",
      "_view_module_version": "1.5.0",
      "_view_name": "ProgressView",
      "bar_style": "",
      "description": "",
      "description_tooltip": null,
      "layout": "IPY_MODEL_afa8ed072d6e412f9de01ef059ed5abd",
      "max": 100,
      "min": 0,
      "orientation": "horizontal",
      "style": "IPY_MODEL_7d18facae7d245fbbf61fc3aec9d2cd4",
      "value": 100
     }
    },
    "bb02a91ed30946a19491c673c6816757": {
     "model_module": "@jupyter-widgets/base",
     "model_module_version": "1.2.0",
     "model_name": "LayoutModel",
     "state": {
      "_model_module": "@jupyter-widgets/base",
      "_model_module_version": "1.2.0",
      "_model_name": "LayoutModel",
      "_view_count": null,
      "_view_module": "@jupyter-widgets/base",
      "_view_module_version": "1.2.0",
      "_view_name": "LayoutView",
      "align_content": null,
      "align_items": null,
      "align_self": null,
      "border": null,
      "bottom": null,
      "display": null,
      "flex": null,
      "flex_flow": null,
      "grid_area": null,
      "grid_auto_columns": null,
      "grid_auto_flow": null,
      "grid_auto_rows": null,
      "grid_column": null,
      "grid_gap": null,
      "grid_row": null,
      "grid_template_areas": null,
      "grid_template_columns": null,
      "grid_template_rows": null,
      "height": null,
      "justify_content": null,
      "justify_items": null,
      "left": null,
      "margin": null,
      "max_height": null,
      "max_width": null,
      "min_height": null,
      "min_width": null,
      "object_fit": null,
      "object_position": null,
      "order": null,
      "overflow": null,
      "overflow_x": null,
      "overflow_y": null,
      "padding": null,
      "right": null,
      "top": null,
      "visibility": null,
      "width": null
     }
    },
    "c456768cba3549c6b3f7696073d22884": {
     "model_module": "@jupyter-widgets/controls",
     "model_module_version": "1.5.0",
     "model_name": "DescriptionStyleModel",
     "state": {
      "_model_module": "@jupyter-widgets/controls",
      "_model_module_version": "1.5.0",
      "_model_name": "DescriptionStyleModel",
      "_view_count": null,
      "_view_module": "@jupyter-widgets/base",
      "_view_module_version": "1.2.0",
      "_view_name": "StyleView",
      "description_width": ""
     }
    },
    "c8c31439a16e4afdb681901cb5919739": {
     "model_module": "@jupyter-widgets/controls",
     "model_module_version": "1.5.0",
     "model_name": "HTMLModel",
     "state": {
      "_dom_classes": [],
      "_model_module": "@jupyter-widgets/controls",
      "_model_module_version": "1.5.0",
      "_model_name": "HTMLModel",
      "_view_count": null,
      "_view_module": "@jupyter-widgets/controls",
      "_view_module_version": "1.5.0",
      "_view_name": "HTMLView",
      "description": "",
      "description_tooltip": null,
      "layout": "IPY_MODEL_4c1f0743b5d4483da4f8b43ecd4727f1",
      "placeholder": "​",
      "style": "IPY_MODEL_ee426cdd08454ef689b505ba0fca95c8",
      "value": " 93/100 [00:00&lt;00:00, 169.92it/s]"
     }
    },
    "cf4ea50de19044d080bb3e1d002b148b": {
     "model_module": "@jupyter-widgets/controls",
     "model_module_version": "1.5.0",
     "model_name": "HTMLModel",
     "state": {
      "_dom_classes": [],
      "_model_module": "@jupyter-widgets/controls",
      "_model_module_version": "1.5.0",
      "_model_name": "HTMLModel",
      "_view_count": null,
      "_view_module": "@jupyter-widgets/controls",
      "_view_module_version": "1.5.0",
      "_view_name": "HTMLView",
      "description": "",
      "description_tooltip": null,
      "layout": "IPY_MODEL_712f10fd030b4f13b9853bb5388fe801",
      "placeholder": "​",
      "style": "IPY_MODEL_c456768cba3549c6b3f7696073d22884",
      "value": "Collecting snapshots:  26%"
     }
    },
    "d7d44a7db40d47e48d0a0d86f16a3f04": {
     "model_module": "@jupyter-widgets/base",
     "model_module_version": "1.2.0",
     "model_name": "LayoutModel",
     "state": {
      "_model_module": "@jupyter-widgets/base",
      "_model_module_version": "1.2.0",
      "_model_name": "LayoutModel",
      "_view_count": null,
      "_view_module": "@jupyter-widgets/base",
      "_view_module_version": "1.2.0",
      "_view_name": "LayoutView",
      "align_content": null,
      "align_items": null,
      "align_self": null,
      "border": null,
      "bottom": null,
      "display": null,
      "flex": null,
      "flex_flow": null,
      "grid_area": null,
      "grid_auto_columns": null,
      "grid_auto_flow": null,
      "grid_auto_rows": null,
      "grid_column": null,
      "grid_gap": null,
      "grid_row": null,
      "grid_template_areas": null,
      "grid_template_columns": null,
      "grid_template_rows": null,
      "height": null,
      "justify_content": null,
      "justify_items": null,
      "left": null,
      "margin": null,
      "max_height": null,
      "max_width": null,
      "min_height": null,
      "min_width": null,
      "object_fit": null,
      "object_position": null,
      "order": null,
      "overflow": null,
      "overflow_x": null,
      "overflow_y": null,
      "padding": null,
      "right": null,
      "top": null,
      "visibility": null,
      "width": null
     }
    },
    "ed4a3ceca0fa46b594ff38fb0fd01001": {
     "model_module": "@jupyter-widgets/controls",
     "model_module_version": "1.5.0",
     "model_name": "HTMLModel",
     "state": {
      "_dom_classes": [],
      "_model_module": "@jupyter-widgets/controls",
      "_model_module_version": "1.5.0",
      "_model_name": "HTMLModel",
      "_view_count": null,
      "_view_module": "@jupyter-widgets/controls",
      "_view_module_version": "1.5.0",
      "_view_name": "HTMLView",
      "description": "",
      "description_tooltip": null,
      "layout": "IPY_MODEL_d7d44a7db40d47e48d0a0d86f16a3f04",
      "placeholder": "​",
      "style": "IPY_MODEL_a70d789f5c4941859f2d10b4d826ebe1",
      "value": "Equilibriation:  93%"
     }
    },
    "ee426cdd08454ef689b505ba0fca95c8": {
     "model_module": "@jupyter-widgets/controls",
     "model_module_version": "1.5.0",
     "model_name": "DescriptionStyleModel",
     "state": {
      "_model_module": "@jupyter-widgets/controls",
      "_model_module_version": "1.5.0",
      "_model_name": "DescriptionStyleModel",
      "_view_count": null,
      "_view_module": "@jupyter-widgets/base",
      "_view_module_version": "1.2.0",
      "_view_name": "StyleView",
      "description_width": ""
     }
    }
   }
  }
 },
 "nbformat": 4,
 "nbformat_minor": 5
}
