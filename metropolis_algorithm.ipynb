{
 "cells": [
  {
   "cell_type": "code",
   "execution_count": 50,
   "id": "715ef89c-f3a9-4e7f-ada7-4898bacc0f30",
   "metadata": {},
   "outputs": [],
   "source": [
    "import matplotlib.pyplot as plt\n",
    "import numpy as np\n",
    "rng = np.random.default_rng()"
   ]
  },
  {
   "cell_type": "markdown",
   "id": "6994800e-0a6b-4b06-8687-76ccd708fcb1",
   "metadata": {},
   "source": [
    "<h1>Assignment 2:</h1>"
   ]
  },
  {
   "cell_type": "markdown",
   "id": "db9bef6a-4f17-4c6b-bce4-701b4450526b",
   "metadata": {},
   "source": [
    "<h2>Calculating the parameters:</h2>\n",
    "\n",
    "The Hamiltonian is given by $$H = -J \\sum_{\\left\\langle ij \\right\\rangle}{s_i s_j}$$ where $s_i \\in \\{+1,-1\\}$.\n",
    "\n",
    "We need to find a suitable value of $J$ such that the critical temperature $T_c$ as given by the mean field theory approximation is $2$. The relation between $J$ and $T_c$ is given as $JC\\beta_c = \\frac{JC}{kT_c}=1$ where $C=4$ for the 2D Ising model. We will define, for now, that $k=2$ and correct our obtained values accordingly later.\n",
    "\n",
    "This conveniently gives us $J=1$. Also, $\\beta_c = \\frac{1}{kT_c} = \\frac{1}{4}$."
   ]
  },
  {
   "cell_type": "markdown",
   "id": "84879a62-afd9-424a-b57b-1788fa164a46",
   "metadata": {},
   "source": [
    "We will consider periodic boundary conditions."
   ]
  },
  {
   "cell_type": "markdown",
   "id": "681152fd-1915-48c0-a5f1-13bf7599af05",
   "metadata": {},
   "source": [
    "<h2>Monte-Carlo step:</h2>\n",
    "\n",
    "The spin-up state is taken as $+1$ and the spin-down state is taken as $-1$.\n",
    "\n",
    "In one Monte-Carlo step, we flip the state of one spin and calculate the resulting energy difference $\\Delta E = E_f - E_i$. When a spin is flipped, only $4$ terms are affected in the Hamiltonian, and they are the interactions between the nearest neighbour spins of the flipped spin and the flipped spin itself. So, instead of recalculating the entire Hamiltonian every time, we can simply calculate the energy difference from these $4$ terms.\n",
    "\n",
    "Let us say spin $s_{(i,j)}$ was flipped (which is the spin at row $i$ and column $j$). The energy difference is then $$\\Delta E = 2Js_{(i,j)} \\cdot \\left( s_{(i+1,j)} + s_{(i,j+1)} + s_{(i-1,j)} + s_{(i,j-1)} \\right)$$ since we just flipped the sign of these $4$ terms. Note that the indices are considered modulo $N$ because of periodic boundary conditions.\n",
    "\n",
    "We can flip the spin initially. Then we can test if it satisfies our conditions and if it doesn't, we'll just flip it back."
   ]
  },
  {
   "cell_type": "code",
   "execution_count": 27,
   "id": "aa885341-42d2-4178-a15d-e46e75403127",
   "metadata": {},
   "outputs": [],
   "source": [
    "def mc_step(lattice,T,N,i,j):\n",
    "    del_E = 2*lattice[i,j]*(lattice[(i-1)%N,j]+lattice[i,(j-1)%N]+lattice[(i+1)%N,j]+lattice[i,(j+1)%N])\n",
    "    lattice[i,j] *= -1\n",
    "    if del_E > 0:\n",
    "        if rng.random() > np.exp(-del_E/(2*T)):\n",
    "            lattice[i,j] *= -1"
   ]
  },
  {
   "cell_type": "code",
   "execution_count": 29,
   "id": "832a9e79-5810-4f2c-a855-d4a4bb05ce68",
   "metadata": {},
   "outputs": [],
   "source": [
    "def mc_timestep(lattice,T,N):\n",
    "    for i in range(N):\n",
    "        for j in range(N):\n",
    "            mc_step(lattice,T,N,i,j)"
   ]
  },
  {
   "cell_type": "markdown",
   "id": "77c8d6e2-58ae-459f-8938-5a1bf76b6171",
   "metadata": {},
   "source": [
    "<h2>Simulating and gathering snapshots:</h2>\n",
    "\n",
    "The following cells define the required elements of the simulation and then we run it. We take an $N \\times N$ sized lattice at temperature $T$. For the initial state, we'll consider all spins to point up. First it is allowed to equilibriate for ```t_equilibrium``` timesteps, then ```snapshot_count``` snapshots are gathered every ```snapshot_interval``` timesteps."
   ]
  },
  {
   "cell_type": "code",
   "execution_count": 133,
   "id": "bb3b13cd-ac66-4e36-b453-ff8d15449518",
   "metadata": {},
   "outputs": [],
   "source": [
    "N = 16\n",
    "lattice = np.ones(shape=(N,N))\n",
    "T = 4\n",
    "t_equilibrium = 1\n",
    "snapshot_interval = 100\n",
    "snapshot_count = 10"
   ]
  },
  {
   "cell_type": "code",
   "execution_count": 134,
   "id": "9b5429d7-9ec9-472e-a16f-2dc3b3f39bb2",
   "metadata": {
    "scrolled": true
   },
   "outputs": [],
   "source": [
    "for t in range(t_equilibrium):\n",
    "    mc_timestep(lattice,T,N)"
   ]
  },
  {
   "cell_type": "code",
   "execution_count": 138,
   "id": "b2f7549c-ef1b-4bf3-9552-8da698e1afb9",
   "metadata": {},
   "outputs": [],
   "source": [
    "snapshots = [] #This stores the snapshots"
   ]
  },
  {
   "cell_type": "code",
   "execution_count": 136,
   "id": "22d5b528-139a-4c44-becc-063544b342e2",
   "metadata": {},
   "outputs": [],
   "source": [
    "for i in range(snapshot_count):\n",
    "    for t in range(snapshot_interval):\n",
    "        mc_timestep(lattice,T,N)\n",
    "    snapshots.append(lattice)"
   ]
  }
 ],
 "metadata": {
  "kernelspec": {
   "display_name": "Python 3 (ipykernel)",
   "language": "python",
   "name": "python3"
  },
  "language_info": {
   "codemirror_mode": {
    "name": "ipython",
    "version": 3
   },
   "file_extension": ".py",
   "mimetype": "text/x-python",
   "name": "python",
   "nbconvert_exporter": "python",
   "pygments_lexer": "ipython3",
   "version": "3.9.1"
  }
 },
 "nbformat": 4,
 "nbformat_minor": 5
}
